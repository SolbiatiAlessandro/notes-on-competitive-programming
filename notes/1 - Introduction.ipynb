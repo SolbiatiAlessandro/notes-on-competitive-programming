{
 "cells": [
  {
   "cell_type": "markdown",
   "metadata": {},
   "source": [
    "# 1 : Introduction"
   ]
  },
  {
   "cell_type": "markdown",
   "metadata": {},
   "source": [
    "## Given well-known CS problems, solve them as quickly as possible."
   ]
  },
  {
   "cell_type": "markdown",
   "metadata": {},
   "source": [
    "## 7 tips"
   ]
  },
  {
   "cell_type": "markdown",
   "metadata": {},
   "source": [
    "### (1) type faster"
   ]
  },
  {
   "cell_type": "markdown",
   "metadata": {},
   "source": [
    "Sample code to write down (solution to Abriged problem)"
   ]
  },
  {
   "cell_type": "code",
   "execution_count": 4,
   "metadata": {
    "collapsed": true
   },
   "outputs": [],
   "source": [
    "#include <algotrithm>\n",
    "#include <cmath>\n",
    "#include <cstdio>\n",
    "#include <cstring>\n",
    "using namespace std;\n",
    "\n",
    "int N, target;\n",
    "double dist[20][20], memo[1 << 16];\n",
    "\n",
    "double matching(int bitmask){\n",
    "    if(memo[bitmask] > -0.5)\n",
    "        return memo[bitmask];\n",
    "    if(memo[bitmask]==target)\n",
    "        return memo[bitmask] = 0;\n",
    "    \n",
    "    double ans = 200000000.0;\n",
    "    int p1,p2;\n",
    "    for(p1=0;p1<2*N;p1++)\n",
    "        if(!(bitmask & (1<<p1)))\n",
    "            break;\n",
    "    for(p2=p1+1;p2<2*N;p2++)\n",
    "        if(!(bitmask & (1<<p2)))\n",
    "            ans = min(ans,dist[p1][p2]+matching(bitmask | (1<p1)|(1<<p2)));\n",
    "    \n",
    "    return memo[bitmask] = ans;\n",
    "}\n",
    "\n",
    "int main(){\n",
    "    int i,j,caseNO = 1,x[20],y[20];\n",
    "    freopen(\"10911.txt\",\"r\",stdin);\n",
    "    \n",
    "    while(scanf(\"%d\",&N),N){\n",
    "        for(i=0;i<2*N;i++)\n",
    "            scanf(\"%*s %d %d\",&x[i],&y[i]);\n",
    "        for(i=0;i<2*N-1;i++)\n",
    "            for(j=i+1;j<2*N;j++)\n",
    "                dist[i][j] = dist[j][i] = hypot(x[i]-x[j],y[i]-y[j]);\n",
    "        \n",
    "        for(i=0;i<(1<<16);i++) memo[i]=-1.0;\n",
    "        target = (1<<(2*N))-1;\n",
    "        printf(\"Case %d: %.2lf\\n\",caseNo++,matching(0));\n",
    "    }\n",
    "    return 0;\n",
    "}"
   ]
  },
  {
   "cell_type": "markdown",
   "metadata": {},
   "source": [
    "Test and improve [here](typingtest.com)"
   ]
  },
  {
   "cell_type": "markdown",
   "metadata": {},
   "source": [
    "### (2) Quickly identify problem types"
   ]
  },
  {
   "cell_type": "markdown",
   "metadata": {},
   "source": [
    "| No | Category | Freq |\n",
    "|:---:|:----------:|:------:|\n",
    "| 1  | Ad Hoc   |  1-2 |\n",
    "| 2  | Complete Search|  1-2 |\n",
    "| 3  | Divide and Conquer |  0-1 |\n",
    "| 4  | Greedy|  0-1 |\n",
    "| 5  | Dynamic Programming|  1-3 |\n",
    "| 6  | Graph|  1-2 |\n",
    "| 7  | Mathematics  |  1-2 |\n",
    "| 8  | String Processing   |   1  |\n",
    "| 9  | Computational Geometry   |   1  |\n",
    "| 10 |Rare Problems|  1-2 |"
   ]
  },
  {
   "cell_type": "markdown",
   "metadata": {},
   "source": [
    "Also classify as\n",
    "- Solved before\n",
    "- Seen before\n",
    "- Not seen"
   ]
  },
  {
   "cell_type": "markdown",
   "metadata": {},
   "source": [
    "### (3) Do Algorithm Analysis"
   ]
  },
  {
   "cell_type": "markdown",
   "metadata": {},
   "source": [
    "In competition try to find the **simplest** solution that works **in the time limit**"
   ]
  },
  {
   "cell_type": "markdown",
   "metadata": {},
   "source": [
    "modern processor about 100M operations in few seconds (use this to estimate if your solution is enough)"
   ]
  },
  {
   "cell_type": "markdown",
   "metadata": {},
   "source": [
    "Some sparse tips\n",
    "- k-nested loops of n iter **O(n^k)**\n",
    "- b recursive calls for L levels **O(b^L)**\n",
    "- dynamic programming with n\\*n matrix, k per cell **O(k\\*n^2)**"
   ]
  },
  {
   "cell_type": "markdown",
   "metadata": {},
   "source": [
    "### (4) Master Programming Languages"
   ]
  },
  {
   "cell_type": "markdown",
   "metadata": {},
   "source": [
    "C++ with STL is preferred  \n",
    "Java knowledge is also required (Powerful lib: BigInt,BigDec,Regex and easier debug)"
   ]
  },
  {
   "cell_type": "markdown",
   "metadata": {},
   "source": [
    "### (5) Master the art of Testing Code"
   ]
  },
  {
   "cell_type": "markdown",
   "metadata": {},
   "source": [
    "Design your own tricky test cases, since the provided one are usually trivial  \n",
    "Include:  \n",
    "- sample test cases\n",
    "- double include for initializations concern\n",
    "- consider tricky corner cases\n",
    "- largest cases"
   ]
  },
  {
   "cell_type": "markdown",
   "metadata": {},
   "source": [
    "### (6) Practice and more Practice"
   ]
  },
  {
   "cell_type": "markdown",
   "metadata": {},
   "source": [
    "resources:\n",
    "- UVa online judge ([here](https://uva.onlinejudge.org/))\n",
    "- ACM ICPC Live Archive ([here](https://icpcarchive.ecs.baylor.edu/))\n",
    "- USACO training website ([here](http://train.usaco.org/))\n",
    "- Sphere online judge ([here](http://www.spoj.com/))\n",
    "- Topcoder ([here](https://www.topcoder.com))"
   ]
  },
  {
   "cell_type": "markdown",
   "metadata": {},
   "source": [
    "### (7) Team Work"
   ]
  },
  {
   "cell_type": "markdown",
   "metadata": {},
   "source": [
    "Learn to work on paper for when you cannot use the computer.  \n",
    "Prepare hard corner case for your teammate"
   ]
  },
  {
   "cell_type": "markdown",
   "metadata": {},
   "source": [
    "## Getting Started"
   ]
  },
  {
   "cell_type": "markdown",
   "metadata": {},
   "source": [
    "### Anatomy of a problem"
   ]
  },
  {
   "cell_type": "markdown",
   "metadata": {},
   "source": [
    "**Background story and Problem description** : easy one try to deceive, hard usually succint text"
   ]
  },
  {
   "cell_type": "markdown",
   "metadata": {},
   "source": [
    "**Input and Output description**"
   ]
  },
  {
   "cell_type": "markdown",
   "metadata": {},
   "source": [
    "**Sample Input and Sample Output** : just trivial cases, not enough"
   ]
  },
  {
   "cell_type": "markdown",
   "metadata": {},
   "source": [
    "**Hints or Footnotes**"
   ]
  },
  {
   "cell_type": "markdown",
   "metadata": {},
   "source": [
    "### Typical In/Out routines"
   ]
  },
  {
   "cell_type": "markdown",
   "metadata": {},
   "source": [
    "for input possible formats are:\n",
    "- \\# of case given as first line\n",
    "- continue until special values\n",
    "- continue until EOF"
   ]
  },
  {
   "cell_type": "markdown",
   "metadata": {},
   "source": [
    "Pay attention to the output format as well (\\n after each result vs between results)"
   ]
  }
 ],
 "metadata": {
  "kernelspec": {
   "display_name": "Python 3",
   "language": "python",
   "name": "python3"
  },
  "language_info": {
   "codemirror_mode": {
    "name": "ipython",
    "version": 3
   },
   "file_extension": ".py",
   "mimetype": "text/x-python",
   "name": "python",
   "nbconvert_exporter": "python",
   "pygments_lexer": "ipython3",
   "version": "3.6.1"
  }
 },
 "nbformat": 4,
 "nbformat_minor": 2
}
